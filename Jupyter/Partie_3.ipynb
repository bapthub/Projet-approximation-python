{
  "nbformat": 4,
  "nbformat_minor": 0,
  "metadata": {
    "colab": {
      "name": "Partie 3.ipynb",
      "provenance": [],
      "collapsed_sections": []
    },
    "kernelspec": {
      "name": "python3",
      "display_name": "Python 3"
    },
    "language_info": {
      "name": "python"
    }
  },
  "cells": [
    {
      "cell_type": "markdown",
      "source": [
        "# Partie 3 : Approximation de données par les moindres carrés\n",
        "### But : effectuer des approximations polynômiales et quelconques d'un nuage de points"
      ],
      "metadata": {
        "id": "GPzkVDWM6T_x"
      }
    },
    {
      "cell_type": "code",
      "source": [
        "#Import libraries\n",
        "import matplotlib.pyplot as plt\n",
        "import numpy as np\n",
        "\n",
        "import scipy as sci\n",
        "import sympy as sym\n",
        "from scipy.optimize import least_squares\n",
        "from sympy import *\n",
        "import math\n",
        "import random"
      ],
      "metadata": {
        "id": "kWEMc9_g8dFh"
      },
      "execution_count": 59,
      "outputs": []
    },
    {
      "cell_type": "markdown",
      "source": [
        "## 1. Générer un nuage de points"
      ],
      "metadata": {
        "id": "3e6-cao5T3pY"
      }
    },
    {
      "cell_type": "code",
      "source": [
        "#Fonction qui crée un nuage de point\n",
        "def nuage_point(nb_pts, a, b, c, ):\n",
        "    incertitude = input(\"Entrer incertitude\\n\")\n",
        "    precision = incertitude[::-1].find('.')\n",
        "    if (precision == - 1):\n",
        "        precision = 0\n",
        "    incertitude = float(incertitude)\n",
        "\n",
        "    l_xi = random.sample(range(a,b), nb_pts)\n",
        "    l_xi.sort()\n",
        "\n",
        "    l_yi = []\n",
        "    yo = round(random.uniform(c,d),precision)\n",
        "    l_yi.append(yo)\n",
        "\n",
        "    for i in range(1, nb_pts, 1):\n",
        "        prev_y = l_yi[i - 1]\n",
        "        \n",
        "        yi = round(random.uniform(c,d), precision)\n",
        "        if (abs(yi - prev_y) > incertitude):\n",
        "            while(abs(yi - prev_y) > incertitude):\n",
        "                yi = round(random.uniform(c,d), precision)\n",
        "        l_yi.append(yi)\n",
        "    return l_xi, l_yi"
      ],
      "metadata": {
        "id": "dzvsc0KoKwEy"
      },
      "execution_count": 61,
      "outputs": []
    },
    {
      "cell_type": "code",
      "source": [
        "#Fonction qui trace les points\n",
        "def tracerPoint(cooX, cooY):\n",
        "  plt.scatter(cooX, cooY, color=\"black\", marker=\"x\")\n",
        "  plt.axhline(0, color = \"black\")\n",
        "  plt.axvline(0, color = \"black\")\n",
        "  plt.grid()\n",
        "  plt.show()"
      ],
      "metadata": {
        "id": "7ZvQfmlBNIJP"
      },
      "execution_count": 65,
      "outputs": []
    },
    {
      "cell_type": "code",
      "source": [
        "X, Y = nuage_point(5, 0, 10, 2, 40)\n",
        "print(\"X\", X)\n",
        "print(\"Y\", Y)\n",
        "tracerPoint(X, Y)"
      ],
      "metadata": {
        "colab": {
          "base_uri": "https://localhost:8080/",
          "height": 338
        },
        "id": "TsVDLh--NKdd",
        "outputId": "a994942c-a59d-4702-8ca5-d644414b4a54"
      },
      "execution_count": 106,
      "outputs": [
        {
          "output_type": "stream",
          "name": "stdout",
          "text": [
            "Entrer incertitude\n",
            "2\n",
            "X [0, 2, 3, 7, 9]\n",
            "Y [8.0, 10.0, 10.0, 11.0, 12.0]\n"
          ]
        },
        {
          "output_type": "display_data",
          "data": {
            "text/plain": [
              "<Figure size 432x288 with 1 Axes>"
            ],
            "image/png": "[encoded data removed]"
          },
          "metadata": {
            "needs_background": "light"
          }
        }
      ]
    },
    {
      "cell_type": "markdown",
      "source": [
        "## Fonction pour avoir le degré du polynôme\n",
        "Le degré du polynôme correspond au nombre de variation"
      ],
      "metadata": {
        "id": "_MoxViPtDqh7"
      }
    },
    {
      "cell_type": "code",
      "source": [
        "def nbVariation(cooX, cooY):\n",
        "\n",
        "  def coeffDirecteur(x0, x1, y0, y1):\n",
        "    a = (y1 - y0)/(x1 - x0)\n",
        "    if a > 0:\n",
        "      return 1\n",
        "    elif a < 0:\n",
        "      return -1\n",
        "    else:\n",
        "      return 0\n",
        "\n",
        "  variation = 1\n",
        "  coeff = [coeffDirecteur(cooX[i], cooX[i + 1], cooY[i], cooY[i + 1]) for i in range(len(cooX) - 1)]\n",
        "\n",
        "  for i in range(len(coeff) - 1):\n",
        "    if (coeff[i] != coeff[i + 1]):\n",
        "      variation += 1\n",
        "  return variation"
      ],
      "metadata": {
        "id": "hSAtD3O-Db90"
      },
      "execution_count": null,
      "outputs": []
    },
    {
      "cell_type": "markdown",
      "source": [
        "## Polynome d'approximation par la méthode des moindres carrés\n"
      ],
      "metadata": {
        "id": "dsXNIO9uPHMP"
      }
    },
    {
      "cell_type": "code",
      "source": [
        "def moindreCarre(X, Y):\n",
        "    variation = nbVariation(X, Y)\n",
        "    mymodel = np.poly1d(np.polyfit(X, Y, variation))\n",
        "    myline = np.arange(min(X), max(X), 0.1)\n",
        "    print(\"model = \", mymodel)\n",
        "    plt.scatter(X, Y)\n",
        "\n",
        "    #Tracer le polynôme \n",
        "    plt.plot(myline, mymodel(myline))\n",
        "\n",
        "    plt.show()\n",
        "    return mymodel"
      ],
      "metadata": {
        "id": "_E2HemoFQV0w"
      },
      "execution_count": 88,
      "outputs": []
    },
    {
      "cell_type": "markdown",
      "source": [
        "## Application aux exercices 7 et 8\n"
      ],
      "metadata": {
        "id": "wezPHrOoURQE"
      }
    },
    {
      "cell_type": "code",
      "source": [
        "#Exercice 7\n",
        "X1 = [1, 2, 4, 6, 7]\n",
        "Y1 = [1, 3, 5, 10, 15]\n",
        "moindreCarre(X1, Y1)"
      ],
      "metadata": {
        "colab": {
          "base_uri": "https://localhost:8080/",
          "height": 301
        },
        "id": "EiCC7fnlPUqI",
        "outputId": "76fe6960-37e2-4c07-f42d-5606b4d82576"
      },
      "execution_count": 89,
      "outputs": [
        {
          "output_type": "stream",
          "name": "stdout",
          "text": [
            "model =   \n",
            "2.154 x - 1.815\n"
          ]
        },
        {
          "output_type": "display_data",
          "data": {
            "text/plain": [
              "<Figure size 432x288 with 1 Axes>"
            ],
            "image/png": "[encoded data removed]"
          },
          "metadata": {
            "needs_background": "light"
          }
        }
      ]
    },
    {
      "cell_type": "code",
      "source": [
        "#Exercice 8\n",
        "X2 = [0, 1, 2, 4, 6]\n",
        "Y2 = [7, 4, 2, 4, 12]\n",
        "moindreCarre(X2, Y2)"
      ],
      "metadata": {
        "colab": {
          "base_uri": "https://localhost:8080/",
          "height": 301
        },
        "id": "UElHUlecQ19o",
        "outputId": "07666dfa-3a76-465e-fea2-e9228b8a4ea7"
      },
      "execution_count": 90,
      "outputs": [
        {
          "output_type": "stream",
          "name": "stdout",
          "text": [
            "model =          2\n",
            "0.8097 x - 4.026 x + 7.037\n"
          ]
        },
        {
          "output_type": "display_data",
          "data": {
            "text/plain": [
              "<Figure size 432x288 with 1 Axes>"
            ],
            "image/png": "[encoded data removed]"
          },
          "metadata": {
            "needs_background": "light"
          }
        }
      ]
    },
    {
      "cell_type": "markdown",
      "source": [
        "## Application sur un exemple\n"
      ],
      "metadata": {
        "id": "9FOxyX3vRN0I"
      }
    },
    {
      "cell_type": "code",
      "source": [
        "X3 = [0, 1, 2, 3, 4, 6, 7, 9, 11, 12, 15, 16, 17, 18, 20]\n",
        "Y3 = [2, 1, 0, -1, -3, -1, 0, 2, 4, 5, 7, 10, 8, -3, -10]\n",
        "modele = moindreCarre(X3, Y3)"
      ],
      "metadata": {
        "id": "VGuI2pUEIVQ3",
        "colab": {
          "base_uri": "https://localhost:8080/",
          "height": 320
        },
        "outputId": "6c78967e-ee38-4a2d-cf38-0082eb0f460e"
      },
      "execution_count": 98,
      "outputs": [
        {
          "output_type": "stream",
          "name": "stdout",
          "text": [
            "model =            3          2\n",
            "-0.02199 x + 0.5878 x - 3.621 x + 3.775\n"
          ]
        },
        {
          "output_type": "display_data",
          "data": {
            "text/plain": [
              "<Figure size 432x288 with 1 Axes>"
            ],
            "image/png": "[encoded data removed]"
          },
          "metadata": {
            "needs_background": "light"
          }
        },
        {
          "output_type": "stream",
          "name": "stdout",
          "text": [
            "None\n"
          ]
        }
      ]
    },
    {
      "cell_type": "code",
      "source": [
        "def getValeur(X, Y, nb):\n",
        "  variation = nbVariation(X, Y)\n",
        "  mymodel = np.poly1d(np.polyfit(X, Y, variation))\n",
        "  print(mymodel(nb))"
      ],
      "metadata": {
        "id": "L-JtmgjVRfrh"
      },
      "execution_count": 103,
      "outputs": []
    },
    {
      "cell_type": "code",
      "source": [
        "getValeur(X3, Y3, 22)\n",
        "getValeur(X3, Y3, 25)\n",
        "getValeur(X3, Y3, 50)"
      ],
      "metadata": {
        "colab": {
          "base_uri": "https://localhost:8080/"
        },
        "id": "PB3vTvKZSjX5",
        "outputId": "15f0cb63-26fe-44e5-e9bd-12d5b6b33866"
      },
      "execution_count": 104,
      "outputs": [
        {
          "output_type": "stream",
          "name": "stdout",
          "text": [
            "-25.511937470473768\n",
            "-62.92394011943426\n",
            "-1456.132964450982\n"
          ]
        }
      ]
    }
  ]
}