{
 "cells": [
  {
   "cell_type": "markdown",
   "metadata": {
    "id": "GPzkVDWM6T_x"
   },
   "source": [
    "# Partie 3 : Approximation de données par les moindres carrés\n",
    "### But : effectuer des approximations polynômiales et quelconques d'un nuage de points"
   ]
  },
  {
   "cell_type": "code",
   "execution_count": 1,
   "metadata": {
    "id": "kWEMc9_g8dFh"
   },
   "outputs": [],
   "source": [
    "#Import libraries\n",
    "import matplotlib.pyplot as plt\n",
    "import numpy as np\n",
    "\n",
    "import scipy as sci\n",
    "import sympy as sym\n",
    "from scipy.optimize import least_squares\n",
    "from sympy import *\n",
    "import math\n",
    "import random\n",
    "\n",
    "# Initialisation des variables globales\n",
    "x = Symbol('x')\n",
    "y = Symbol('y')"
   ]
  },
  {
   "cell_type": "markdown",
   "metadata": {
    "id": "3e6-cao5T3pY"
   },
   "source": [
    "## 1. Générer un nuage de points"
   ]
  },
  {
   "cell_type": "code",
   "execution_count": 2,
   "metadata": {
    "id": "dzvsc0KoKwEy"
   },
   "outputs": [],
   "source": [
    "#Fonction qui crée un nuage de point\n",
    "def nuage_point(nb_pts, a, b, c, d):\n",
    "    incertitude = input(\"Entrer incertitude\\n\")\n",
    "    precision = incertitude[::-1].find('.')\n",
    "    if (precision == - 1):\n",
    "        precision = 0\n",
    "    incertitude = float(incertitude)\n",
    "\n",
    "    #Création aléatoire d'entiers naturels triés pour les abcisses en respectant :\n",
    "    # a <= Xi <= b\n",
    "    l_xi = random.sample(range(a,b), nb_pts)\n",
    "    l_xi.sort()\n",
    "\n",
    "    # Création aléatoire de réels quelconques pour les ordonnées en respectant les conditions :\n",
    "    # Pour tout i, |Yi+1 - Yi| < Ɛ \n",
    "    # c <= Yi <= d\n",
    "    l_yi = []\n",
    "    yo = round(random.uniform(c,d),precision)\n",
    "    l_yi.append(yo)\n",
    "\n",
    "    for i in range(1, nb_pts, 1):\n",
    "        prev_y = l_yi[i - 1]\n",
    "        yi = round(random.uniform(c,d), precision)\n",
    "        if (abs(yi - prev_y) > incertitude):\n",
    "            while(abs(yi - prev_y) > incertitude):\n",
    "                yi = round(random.uniform(c,d), precision)\n",
    "        l_yi.append(yi)\n",
    "\n",
    "    return l_xi, l_yi"
   ]
  },
  {
   "cell_type": "code",
   "execution_count": 3,
   "metadata": {
    "id": "7ZvQfmlBNIJP"
   },
   "outputs": [],
   "source": [
    "#Fonction qui trace les points\n",
    "def tracerPoint(cooX, cooY):\n",
    "  plt.scatter(cooX, cooY, color=\"black\", marker=\"x\")\n",
    "  plt.axhline(0, color = \"black\")\n",
    "  plt.axvline(0, color = \"black\")\n",
    "  plt.grid()\n",
    "  plt.show()"
   ]
  },
  {
   "cell_type": "code",
   "execution_count": 4,
   "metadata": {
    "colab": {
     "base_uri": "https://localhost:8080/",
     "height": 338
    },
    "id": "TsVDLh--NKdd",
    "outputId": "a994942c-a59d-4702-8ca5-d644414b4a54"
   },
   "outputs": [
    {
     "name": "stdout",
     "output_type": "stream",
     "text": [
      "Entrer incertitude\n",
      "1\n",
      "X [3, 4, 5, 6, 8]\n",
      "Y [30.0, 31.0, 32.0, 31.0, 32.0]\n"
     ]
    },
    {
     "data": {
      "image/png": "[encoded data removed]",
      "text/plain": [
       "<Figure size 432x288 with 1 Axes>"
      ]
     },
     "metadata": {
      "needs_background": "light"
     },
     "output_type": "display_data"
    }
   ],
   "source": [
    "X, Y = nuage_point(5, 0, 10, 2, 40)\n",
    "print(\"X\", X)\n",
    "print(\"Y\", Y)\n",
    "tracerPoint(X, Y)"
   ]
  },
  {
   "cell_type": "code",
   "execution_count": null,
   "metadata": {
    "colab": {
     "base_uri": "https://localhost:8080/",
     "height": 353
    },
    "id": "TsVDLh--NKdd",
    "outputId": "0fbe3700-4292-4d05-e49d-1145ef6e0fee"
   },
   "outputs": [
    {
     "name": "stdout",
     "output_type": "stream",
     "text": [
      "Entrer incertitude\n",
      "0.5\n",
      "X [0, 5, 6, 10, 11, 13, 14, 15, 18, 19, 21, 22, 23, 28, 29, 30, 34, 38, 39, 40, 41, 42, 44, 45, 47, 49, 51, 52, 53, 55, 58, 59, 60, 63, 64, 65, 66, 70, 71, 74, 75, 78, 83, 84, 86, 89, 91, 92, 97, 98]\n",
      "Y [14.5, 14.9, 14.8, 14.6, 14.4, 14.1, 14.2, 14.7, 14.3, 14.1, 13.7, 14.1, 13.8, 14.3, 14.0, 14.0, 13.6, 13.5, 13.4, 13.1, 13.6, 13.3, 13.5, 13.4, 13.3, 13.6, 13.3, 12.9, 12.7, 12.6, 12.7, 13.0, 12.8, 12.4, 11.9, 11.7, 11.6, 11.6, 11.9, 12.4, 12.6, 12.5, 12.0, 11.6, 11.9, 11.6, 11.9, 12.3, 11.8, 11.6]\n"
     ]
    },
    {
     "data": {
      "image/png": "[encoded data removed]",
      "text/plain": [
       "<Figure size 432x288 with 1 Axes>"
      ]
     },
     "metadata": {},
     "output_type": "display_data"
    }
   ],
   "source": [
    "X, Y = nuage_point(50, 0, 100, 0, 50)\n",
    "print(\"X\", X)\n",
    "print(\"Y\", Y)\n",
    "tracerPoint(X, Y)"
   ]
  },
  {
   "cell_type": "code",
   "execution_count": null,
   "metadata": {
    "colab": {
     "base_uri": "https://localhost:8080/",
     "height": 333
    },
    "id": "TsVDLh--NKdd",
    "outputId": "b82267ef-f480-4107-b290-f126a8f17485"
   },
   "outputs": [
    {
     "name": "stdout",
     "output_type": "stream",
     "text": [
      "Entrer incertitude\n",
      "0.03\n",
      "X [0, 2, 3, 4, 5, 6, 7, 9, 10, 11, 12, 13, 14, 17, 18, 19, 20, 21, 23, 24]\n",
      "Y [2.34, 2.36, 2.34, 2.36, 2.37, 2.38, 2.35, 2.33, 2.32, 2.29, 2.28, 2.26, 2.28, 2.28, 2.25, 2.26, 2.28, 2.27, 2.24, 2.24]\n"
     ]
    },
    {
     "data": {
      "image/png": "[encoded data removed]",
      "text/plain": [
       "<Figure size 432x288 with 1 Axes>"
      ]
     },
     "metadata": {},
     "output_type": "display_data"
    }
   ],
   "source": [
    "X, Y = nuage_point(20, 0, 25, 0, 5)\n",
    "print(\"X\", X)\n",
    "print(\"Y\", Y)\n",
    "tracerPoint(X, Y)"
   ]
  },
  {
   "cell_type": "markdown",
   "metadata": {
    "id": "_MoxViPtDqh7"
   },
   "source": [
    "## Fonction pour avoir le degré du polynôme\n",
    "Le degré du polynôme correspond au nombre de variation"
   ]
  },
  {
   "cell_type": "code",
   "execution_count": 5,
   "metadata": {
    "id": "hSAtD3O-Db90"
   },
   "outputs": [],
   "source": [
    "def nbVariation(cooX, cooY):\n",
    "\n",
    "  def coeffDirecteur(x0, x1, y0, y1):\n",
    "    a = (y1 - y0)/(x1 - x0)\n",
    "    if a > 0:\n",
    "      return 1\n",
    "    elif a < 0:\n",
    "      return -1\n",
    "    else:\n",
    "      return 0\n",
    "\n",
    "  variation = 1\n",
    "  coeff = [coeffDirecteur(cooX[i], cooX[i + 1], cooY[i], cooY[i + 1]) for i in range(len(cooX) - 1)]\n",
    "\n",
    "  for i in range(len(coeff) - 1):\n",
    "    if (coeff[i] != coeff[i + 1]):\n",
    "      variation += 1\n",
    "  return variation"
   ]
  },
  {
   "cell_type": "markdown",
   "metadata": {
    "id": "dsXNIO9uPHMP"
   },
   "source": [
    "## Polynome d'approximation par la méthode des moindres carrés\n"
   ]
  },
  {
   "cell_type": "code",
   "execution_count": 6,
   "metadata": {
    "id": "_E2HemoFQV0w"
   },
   "outputs": [],
   "source": [
    "def moindreCarre(X, Y):\n",
    "    variation = nbVariation(X, Y) # Degré du polynôme\n",
    "    mymodel = np.poly1d(np.polyfit(X, Y, variation))  # param : CooX, CooY, degré du polynôme \n",
    "    myline = np.arange(min(X), max(X), 0.1) # 0.1 : Précision sur le lissage de la courbe\n",
    "    print(\"model = \", mymodel)\n",
    "    plt.scatter(X, Y)\n",
    "\n",
    "    #Tracer le polynôme \n",
    "    plt.plot(myline, mymodel(myline))\n",
    "\n",
    "    plt.show()\n",
    "    return mymodel"
   ]
  },
  {
   "cell_type": "markdown",
   "metadata": {
    "id": "wezPHrOoURQE"
   },
   "source": [
    "## Application aux exercices 7 et 8\n"
   ]
  },
  {
   "cell_type": "code",
   "execution_count": 7,
   "metadata": {
    "colab": {
     "base_uri": "https://localhost:8080/",
     "height": 301
    },
    "id": "EiCC7fnlPUqI",
    "outputId": "76fe6960-37e2-4c07-f42d-5606b4d82576"
   },
   "outputs": [
    {
     "name": "stdout",
     "output_type": "stream",
     "text": [
      "model =   \n",
      "2.154 x - 1.815\n"
     ]
    },
    {
     "data": {
      "image/png": "[encoded data removed]",
      "text/plain": [
       "<Figure size 432x288 with 1 Axes>"
      ]
     },
     "metadata": {
      "needs_background": "light"
     },
     "output_type": "display_data"
    },
    {
     "data": {
      "text/plain": [
       "poly1d([ 2.15384615, -1.81538462])"
      ]
     },
     "execution_count": 7,
     "metadata": {},
     "output_type": "execute_result"
    }
   ],
   "source": [
    "#Exercice 7\n",
    "X1 = [1, 2, 4, 6, 7]\n",
    "Y1 = [1, 3, 5, 10, 15]\n",
    "moindreCarre(X1, Y1)"
   ]
  },
  {
   "cell_type": "code",
   "execution_count": 8,
   "metadata": {
    "colab": {
     "base_uri": "https://localhost:8080/",
     "height": 301
    },
    "id": "UElHUlecQ19o",
    "outputId": "07666dfa-3a76-465e-fea2-e9228b8a4ea7"
   },
   "outputs": [
    {
     "name": "stdout",
     "output_type": "stream",
     "text": [
      "model =          2\n",
      "0.8097 x - 4.026 x + 7.037\n"
     ]
    },
    {
     "data": {
      "image/png": "[encoded data removed]",
      "text/plain": [
       "<Figure size 432x288 with 1 Axes>"
      ]
     },
     "metadata": {
      "needs_background": "light"
     },
     "output_type": "display_data"
    },
    {
     "data": {
      "text/plain": [
       "poly1d([ 0.80970149, -4.0261194 ,  7.03731343])"
      ]
     },
     "execution_count": 8,
     "metadata": {},
     "output_type": "execute_result"
    }
   ],
   "source": [
    "#Exercice 8\n",
    "X2 = [0, 1, 2, 4, 6]\n",
    "Y2 = [7, 4, 2, 4, 12]\n",
    "moindreCarre(X2, Y2)"
   ]
  },
  {
   "cell_type": "markdown",
   "metadata": {
    "id": "9FOxyX3vRN0I"
   },
   "source": [
    "## Application sur un exemple\n"
   ]
  },
  {
   "cell_type": "code",
   "execution_count": 9,
   "metadata": {
    "colab": {
     "base_uri": "https://localhost:8080/",
     "height": 320
    },
    "id": "VGuI2pUEIVQ3",
    "outputId": "6c78967e-ee38-4a2d-cf38-0082eb0f460e"
   },
   "outputs": [
    {
     "name": "stdout",
     "output_type": "stream",
     "text": [
      "model =            3          2\n",
      "-0.02199 x + 0.5878 x - 3.621 x + 3.775\n"
     ]
    },
    {
     "data": {
      "image/png": "[encoded data removed]",
      "text/plain": [
       "<Figure size 432x288 with 1 Axes>"
      ]
     },
     "metadata": {
      "needs_background": "light"
     },
     "output_type": "display_data"
    }
   ],
   "source": [
    "X3 = [0, 1, 2, 3, 4, 6, 7, 9, 11, 12, 15, 16, 17, 18, 20]\n",
    "Y3 = [2, 1, 0, -1, -3, -1, 0, 2, 4, 5, 7, 10, 8, -3, -10]\n",
    "modele = moindreCarre(X3, Y3)"
   ]
  },
  {
   "cell_type": "code",
   "execution_count": 10,
   "metadata": {
    "id": "L-JtmgjVRfrh"
   },
   "outputs": [],
   "source": [
    "def getValeur(X, Y, nb):\n",
    "  variation = nbVariation(X, Y)\n",
    "  mymodel = np.poly1d(np.polyfit(X, Y, variation))\n",
    "  print(mymodel(nb))"
   ]
  },
  {
   "cell_type": "code",
   "execution_count": 11,
   "metadata": {
    "colab": {
     "base_uri": "https://localhost:8080/"
    },
    "id": "PB3vTvKZSjX5",
    "outputId": "15f0cb63-26fe-44e5-e9bd-12d5b6b33866"
   },
   "outputs": [
    {
     "name": "stdout",
     "output_type": "stream",
     "text": [
      "-25.51193747047373\n",
      "-62.9239401194342\n",
      "-1456.1329644509792\n"
     ]
    }
   ],
   "source": [
    "getValeur(X3, Y3, 22)\n",
    "getValeur(X3, Y3, 25)\n",
    "getValeur(X3, Y3, 50)"
   ]
  }
 ],
 "metadata": {
  "colab": {
   "collapsed_sections": [],
   "name": "Partie 3.ipynb",
   "provenance": []
  },
  "kernelspec": {
   "display_name": "Python 3 (ipykernel)",
   "language": "python",
   "name": "python3"
  },
  "language_info": {
   "codemirror_mode": {
    "name": "ipython",
    "version": 3
   },
   "file_extension": ".py",
   "mimetype": "text/x-python",
   "name": "python",
   "nbconvert_exporter": "python",
   "pygments_lexer": "ipython3",
   "version": "3.9.2"
  }
 },
 "nbformat": 4,
 "nbformat_minor": 1
}
