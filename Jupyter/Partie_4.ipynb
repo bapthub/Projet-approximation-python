{
 "cells": [
  {
   "cell_type": "markdown",
   "id": "34a14465",
   "metadata": {},
   "source": [
    "# Partie 4 : Intégration numérique\n",
    "## But : calculer des intégrales sans utiliser de primitives"
   ]
  },
  {
   "cell_type": "code",
   "execution_count": 1,
   "id": "186f8542",
   "metadata": {},
   "outputs": [],
   "source": [
    "import matplotlib.pyplot as plt\n",
    "import numpy as np\n",
    "import scipy as sci\n",
    "import sympy as sym\n",
    "from scipy.optimize import minimize_scalar\n",
    "from sympy import *\n",
    "import math\n",
    "x = Symbol('x')"
   ]
  },
  {
   "cell_type": "markdown",
   "id": "f2e16501",
   "metadata": {},
   "source": [
    "### 2. Créer un nuage de points"
   ]
  },
  {
   "cell_type": "code",
   "execution_count": 2,
   "id": "c0cdd8ab",
   "metadata": {},
   "outputs": [],
   "source": [
    "def nuage_point(a,b,n,f):\n",
    "    h = (b - a) / n\n",
    "    l = []\n",
    "    (xo,yo) = (a,f(a))\n",
    "    l.append((xo,yo))\n",
    "    for i in range(a + 1,n):\n",
    "        (xi,yi) = (xo + h,f(xo + h))\n",
    "        l.append((xi,yi))\n",
    "        (xo,yo) = (xi,yi)\n",
    "    (xn,yn) = (b,f(b))\n",
    "    l.append((xn,yn))\n",
    "    return l"
   ]
  },
  {
   "cell_type": "markdown",
   "id": "78238ca8",
   "metadata": {},
   "source": [
    "### 3. Méthode des rectangles inférieurs et supérieur"
   ]
  },
  {
   "cell_type": "code",
   "execution_count": 3,
   "id": "18e1020b",
   "metadata": {},
   "outputs": [],
   "source": [
    "def integration_rectange_inf(a,b,n,l):\n",
    "    h = (b - a) / n\n",
    "    res = 0\n",
    "    for i in range(len(l) - 1):\n",
    "        res += l[i][1]\n",
    "    return res * h"
   ]
  },
  {
   "cell_type": "code",
   "execution_count": 4,
   "id": "2cf4bcd5",
   "metadata": {},
   "outputs": [],
   "source": [
    "def integration_rectange_sup(a,b,n,l):\n",
    "    h = (b - a) / n\n",
    "    res = 0\n",
    "    for i in range(len(l)):\n",
    "        res += l[i][1]\n",
    "    return res * h"
   ]
  },
  {
   "cell_type": "markdown",
   "id": "62ff4685",
   "metadata": {},
   "source": [
    "### 4. Méthode des trapèzes"
   ]
  },
  {
   "cell_type": "code",
   "execution_count": 5,
   "id": "e487a9ef",
   "metadata": {},
   "outputs": [],
   "source": [
    "def integration_trapeze(a,b,n,l):\n",
    "    h = (b - a) / n\n",
    "    new_l = l[1:]\n",
    "    sum = 0\n",
    "    for i in range(len(new_l) - 1):\n",
    "        sum += new_l[i][1]\n",
    "    fa = l[0][1]\n",
    "    fb = l[len(l) - 1][1]\n",
    "    return (h / 2) * (fa + fb + 2 * sum)"
   ]
  },
  {
   "cell_type": "markdown",
   "id": "04920041",
   "metadata": {},
   "source": [
    "### 5.  Méthode de Simpson"
   ]
  },
  {
   "cell_type": "code",
   "execution_count": 6,
   "id": "20edf413",
   "metadata": {},
   "outputs": [],
   "source": [
    "def integration_simpson(a,b,n,l):\n",
    "    if n % 2 != 0:\n",
    "        print(\"n doit être pair\")\n",
    "        return 0\n",
    "    h = (b - a) / n\n",
    "    impair = 0\n",
    "    for i in range(1,len(l) - 1,2):\n",
    "        impair += l[i][1]\n",
    "    pair = 0\n",
    "    for j in range(2,len(l) - 1,2):\n",
    "        pair += l[j][1]\n",
    "    f_xo = l[0][1]\n",
    "    f_xn = l[len(l) - 1][1]\n",
    "    return (h / 3) * (f_xo + f_xn + (4 * impair) + (2 * pair))"
   ]
  },
  {
   "cell_type": "markdown",
   "id": "c9fde448",
   "metadata": {},
   "source": [
    "# Question 6\n",
    "## Exercice 9"
   ]
  },
  {
   "cell_type": "code",
   "execution_count": 7,
   "id": "59e364cd",
   "metadata": {},
   "outputs": [
    {
     "name": "stdout",
     "output_type": "stream",
     "text": [
      "Nuage points :  [(0, 0.0), (0.39269908169872414, 0.3826834323650898), (0.7853981633974483, 0.7071067811865476), (1.1780972450961724, 0.9238795325112867), (1.5707963267948966, 1.0)]\n",
      "Approx_rect_inf I =  0.7907662601234133\n",
      "Approx_rect_sup I =  1.1834653418221375\n",
      "Approx_trapeze I =  0.9871158009727754\n",
      "Approx_simpson I =  1.0001345849741938\n"
     ]
    }
   ],
   "source": [
    "l = nuage_point(0,math.pi/2,4,lambda x: math.sin(x))\n",
    "print(\"Nuage points : \",l)\n",
    "approx_rect_inf = integration_rectange_inf(0, math.pi / 2, 4,l)\n",
    "print(\"Approx_rect_inf I = \",approx_rect_inf)\n",
    "approx_rect_sup = integration_rectange_sup(0, math.pi / 2, 4,l)\n",
    "print(\"Approx_rect_sup I = \",approx_rect_sup)\n",
    "approx_trapeze = integration_trapeze(0, math.pi / 2, 4,l)\n",
    "print(\"Approx_trapeze I = \",approx_trapeze)\n",
    "approx_simpson = integration_simpson(0, math.pi / 2, 4,l)\n",
    "print(\"Approx_simpson I = \",approx_simpson)"
   ]
  },
  {
   "cell_type": "markdown",
   "id": "611803c2",
   "metadata": {},
   "source": [
    "## Exercice 10"
   ]
  },
  {
   "cell_type": "code",
   "execution_count": 8,
   "id": "ac33cc40",
   "metadata": {},
   "outputs": [
    {
     "name": "stdout",
     "output_type": "stream",
     "text": [
      "[(0, 30), (10, 31.63), (20, 33.44), (30, 35.47), (40, 37.75), (50, 40.33), (60, 43.29), (70, 46.7), (80, 50.67)]\n",
      "approx_rect_inf I =  2986.1000000000004\n",
      "approx_rect_sup I =  3492.8\n",
      "approx_trapeze I =  3089.45\n",
      "approx_simpson I =  3087.1666666666665\n"
     ]
    }
   ],
   "source": [
    "l = [(0,30),(10,31.63),(20,33.44),(30,35.47),(40,37.75),(50,40.33),(60,43.29),(70,46.70),(80,50.67)]\n",
    "print(l)\n",
    "approx_rect_inf = integration_rectange_inf(0, 80, 8,l)\n",
    "print(\"approx_rect_inf I = \",approx_rect_inf)\n",
    "approx_rect_sup = integration_rectange_sup(0, 80, 8,l)\n",
    "print(\"approx_rect_sup I = \",approx_rect_sup)\n",
    "approx_trapeze = integration_trapeze(0, 80, 8,l)\n",
    "print(\"approx_trapeze I = \",approx_trapeze)\n",
    "approx_simpson = integration_simpson(0, 80, 8,l)\n",
    "print(\"approx_simpson I = \",approx_simpson)"
   ]
  },
  {
   "cell_type": "markdown",
   "id": "b023a9c1",
   "metadata": {},
   "source": [
    "## Question 7"
   ]
  },
  {
   "cell_type": "code",
   "execution_count": 9,
   "id": "497ebdcf",
   "metadata": {},
   "outputs": [],
   "source": [
    "def find_max(f,a,b):\n",
    "    res_max = sci.optimize.minimize_scalar(f, bounds=[a,b], method='bounded')\n",
    "    return (res_max.x,-res_max.fun)\n",
    "\n",
    "def find_min(f,a,b):\n",
    "    res_min = sci.optimize.minimize_scalar(f, bounds=[a,b], method='bounded')\n",
    "    return (res_min.x,-res_min.fun)\n",
    "\n",
    "def nb_div_rectangle(a,b,c,e):\n",
    "    num = (b-a)**2 * c\n",
    "    den = 2 * e\n",
    "    res = (num / den)\n",
    "    res = int(math.ceil(res))\n",
    "    return res\n",
    "\n",
    "def nb_div_trapeze(a,b,c,e):\n",
    "    num = (b-a)**3 * c\n",
    "    den = 12 * e\n",
    "    res = (num / den)**0.5\n",
    "    res = int(math.ceil(res))\n",
    "    return res\n",
    "\n",
    "def nb_div_simpson(a,b,c,e):\n",
    "    num = (b-a)**5 * c\n",
    "    den = 180 * e\n",
    "    res = (num / den)**0.25\n",
    "    res = int(math.ceil(res))\n",
    "    if res % 2 == 1:\n",
    "        return res + 1\n",
    "    return res"
   ]
  },
  {
   "cell_type": "code",
   "execution_count": 10,
   "id": "1236fc9d",
   "metadata": {},
   "outputs": [
    {
     "name": "stdout",
     "output_type": "stream",
     "text": [
      "\n",
      "f(x) = sin(1/x)\n",
      "Rectangle :\n",
      "dérivée : -cos(1/x)/x**2\n",
      "val max sur I: 0.5403012347805692\n",
      "n = 218822001\n",
      "\n",
      "Trapeze :\n",
      "dérivée seconde : (2*cos(1/x) - sin(1/x)/x)/x**3\n",
      "val max sur I: 0.4217798045098381\n",
      "n = 16008\n",
      "\n",
      "Simpson :\n",
      "dérivée quatrième : (24*cos(1/x) - 36*sin(1/x)/x - 12*cos(1/x)/x**2 + sin(1/x)/x**3)/x**5\n",
      "val max sur I: 0.35965970193541497\n",
      "n= 186\n",
      "I ~=  2.21566334387522\n"
     ]
    }
   ],
   "source": [
    "print(\"\\nf(x) = sin(1/x)\")\n",
    "print(\"Rectangle :\")\n",
    "#utiliser sym\n",
    "def f(x):\n",
    "    return sym.sin(1/x)\n",
    "print(\"dérivée :\",diff(f(x),x,1))\n",
    "#defnir a et b bornes\n",
    "(a,b) = (1,10)\n",
    "#utiliser math\n",
    "# derivée nième normale\n",
    "def deriv_f(x):\n",
    "    return -math.cos(1/x)/x**2\n",
    "# derivée nième avec le signe -\n",
    "def deriv_f_contraire(x):\n",
    "    return math.cos(1/x)/x**2\n",
    "#get the max in the interval\n",
    "(x_max,max_val) = find_max(deriv_f_contraire,a,b)\n",
    "(x_min,min_val) = find_min(deriv_f,a,b)\n",
    "max_val = max(abs(max_val),abs(min_val))\n",
    "print(\"val max sur I:\",max_val)\n",
    "#final\n",
    "print(\"n =\",nb_div_rectangle(a,b,max_val,10**-7))\n",
    "\n",
    "#trapeze\n",
    "print(\"\\nTrapeze :\")\n",
    "#utiliser sym\n",
    "def f(x):\n",
    "    return sym.sin(1/x)\n",
    "print(\"dérivée seconde :\",diff(f(x),x,2))\n",
    "#defnir a et b bornes\n",
    "(a,b) = (1,10)\n",
    "#utiliser math\n",
    "# derivée nième normale\n",
    "def deriv_f(x):\n",
    "    return (2*math.cos(1/x) - math.sin(1/x)/x)/x**3\n",
    "# derivée nième avec le signe -\n",
    "def deriv_f_contraire(x):\n",
    "    return -(2*math.cos(1/x) - math.sin(1/x)/x)/x**3\n",
    "#get the max in the interval\n",
    "(x_max,max_val) = find_max(deriv_f_contraire,a,b)\n",
    "(x_min,min_val) = find_min(deriv_f,a,b)\n",
    "max_val = max(abs(max_val),abs(min_val))\n",
    "print(\"val max sur I:\",max_val)\n",
    "#final\n",
    "print(\"n =\",nb_div_trapeze(a,b,max_val,10**-7))\n",
    "\n",
    "#simpson\n",
    "print(\"\\nSimpson :\")\n",
    "(a,b) = (1,10)\n",
    "#definition fonction\n",
    "def f(x):\n",
    "    return sym.sin(1/x)\n",
    "print(\"dérivée quatrième :\", diff(f(x),x,4))\n",
    "#utiliser math\n",
    "#derivée nième normale\n",
    "def deriv_f(x):\n",
    "    return (24*math.cos(1/x) - 36*math.sin(1/x)/x - 12*math.cos(1/x)/x**2 + math.sin(1/x)/x**3)/x**5\n",
    "#derivée nième avec le signe - devant\n",
    "def deriv_f_contraire(x):\n",
    "    return -(24*math.cos(1/x) - 36*math.sin(1/x)/x - 12*math.cos(1/x)/x**2 + math.sin(1/x)/x**3)/x**5\n",
    "#get the max in the interval\n",
    "(x_max,max_val) = find_max(deriv_f_contraire,a,b)\n",
    "(x_min,min_val) = find_min(deriv_f,a,b)\n",
    "max_val = max(abs(max_val),abs(min_val))\n",
    "print(\"val max sur I:\",max_val)\n",
    "#final\n",
    "print(\"n=\",nb_div_simpson(a,b,max_val,10**-7))\n",
    "\n",
    "l = nuage_point(1,10,186,f)\n",
    "approx_simpson = integration_simpson(1, 10, 186,l)\n",
    "print(\"I ~= \",approx_simpson)"
   ]
  }
 ],
 "metadata": {
  "kernelspec": {
   "display_name": "Python 3 (ipykernel)",
   "language": "python",
   "name": "python3"
  },
  "language_info": {
   "codemirror_mode": {
    "name": "ipython",
    "version": 3
   },
   "file_extension": ".py",
   "mimetype": "text/x-python",
   "name": "python",
   "nbconvert_exporter": "python",
   "pygments_lexer": "ipython3",
   "version": "3.9.7"
  }
 },
 "nbformat": 4,
 "nbformat_minor": 5
}
