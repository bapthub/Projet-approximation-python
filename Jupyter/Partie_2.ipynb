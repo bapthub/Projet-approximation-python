{
  "nbformat": 4,
  "nbformat_minor": 0,
  "metadata": {
    "colab": {
      "name": "Partie 2.ipynb",
      "provenance": [],
      "collapsed_sections": []
    },
    "kernelspec": {
      "name": "python3",
      "display_name": "Python 3"
    },
    "language_info": {
      "name": "python"
    }
  },
  "cells": [
    {
      "cell_type": "markdown",
      "source": [
        "# Partie 2 : Interpolation polynômiale\n",
        "\n",
        "#### But : effectuer des interpolations polynômiales d'un nuage de points quelconque"
      ],
      "metadata": {
        "id": "cF7784uMy5TS"
      }
    },
    {
      "cell_type": "markdown",
      "source": [
        "## 1. Setup général"
      ],
      "metadata": {
        "id": "VcDQTT-GzDJp"
      }
    },
    {
      "cell_type": "code",
      "execution_count": 1,
      "metadata": {
        "id": "7PJ4uAx_ysZM"
      },
      "outputs": [],
      "source": [
        "#Importation des librairies\n",
        "import matplotlib.pyplot as plt\n",
        "import numpy as np\n",
        "from sympy import *"
      ]
    },
    {
      "cell_type": "code",
      "source": [
        "#Initialisation des variables globales\n",
        "x = Symbol('x')\n",
        "pas = 0.1\n",
        "coordonnee = []\n",
        "stop = False"
      ],
      "metadata": {
        "id": "ghxqenbQzHZZ"
      },
      "execution_count": 2,
      "outputs": []
    },
    {
      "cell_type": "code",
      "source": [
        "#Fonction essentielle\n",
        "def eval(f, t):return f.subs(x, t)"
      ],
      "metadata": {
        "id": "bwq3KfoxzOTU"
      },
      "execution_count": 3,
      "outputs": []
    },
    {
      "cell_type": "markdown",
      "source": [
        "## 2. Méthode pour récupérer les coordonnées de nuages de points à la souris\n"
      ],
      "metadata": {
        "id": "5y469geIzX53"
      }
    },
    {
      "cell_type": "code",
      "source": [
        "#Fonction pour récupérer l'évenement \"clic\"\n",
        "def onClick(event):\n",
        "    try:\n",
        "        x, y = event.xdata, event.ydata\n",
        "        print(x, y)\n",
        "        coordonnee.append((round(x, 2), round(y, 2)))\n",
        "        plt.scatter(x, y, color=\"black\", marker=\"x\")\n",
        "    except:\n",
        "        print(\"Please click on the grid !\")"
      ],
      "metadata": {
        "id": "rNWgr9MiziTf"
      },
      "execution_count": 5,
      "outputs": []
    },
    {
      "cell_type": "code",
      "source": [
        "#Fonction pour récupérer l'évenement \"appuyer sur la touche entrée\"\n",
        "def onKey(event):\n",
        "    global stop\n",
        "    if (event.key == \"enter\"):\n",
        "        stop = True"
      ],
      "metadata": {
        "id": "7BwI3nUFzjfb"
      },
      "execution_count": 6,
      "outputs": []
    },
    {
      "cell_type": "code",
      "source": [
        "fig, ax = plt.subplots()\n",
        "ax.set(xlim=(0, 10), ylim=(0, 10))\n",
        "ax.grid()\n",
        "\n",
        "while True:\n",
        "    key = fig.canvas.mpl_connect('key_press_event', onKey)\n",
        "    click = fig.canvas.mpl_connect('button_press_event', onClick)\n",
        "    plt.pause(1)\n",
        "    if (stop):\n",
        "        break"
      ],
      "metadata": {
        "colab": {
          "base_uri": "https://localhost:8080/",
          "height": 623
        },
        "id": "qLjmKXVxzXEz",
        "outputId": "15c4b581-f25d-447a-a135-6eabe412a185"
      },
      "execution_count": 9,
      "outputs": [
        {
          "output_type": "display_data",
          "data": {
            "text/plain": [
              "<Figure size 432x288 with 1 Axes>"
            ],
            "image/png": "[encoded data removed]"
          },
          "metadata": {
            "needs_background": "light"
          }
        },
        {
          "output_type": "error",
          "ename": "KeyboardInterrupt",
          "evalue": "ignored",
          "traceback": [
            "\u001b[0;31m---------------------------------------------------------------------------\u001b[0m",
            "\u001b[0;31mKeyboardInterrupt\u001b[0m                         Traceback (most recent call last)",
            "\u001b[0;32m<ipython-input-9-fb72b67ecdfd>\u001b[0m in \u001b[0;36m<module>\u001b[0;34m()\u001b[0m\n\u001b[1;32m      6\u001b[0m     \u001b[0mkey\u001b[0m \u001b[0;34m=\u001b[0m \u001b[0mfig\u001b[0m\u001b[0;34m.\u001b[0m\u001b[0mcanvas\u001b[0m\u001b[0;34m.\u001b[0m\u001b[0mmpl_connect\u001b[0m\u001b[0;34m(\u001b[0m\u001b[0;34m'key_press_event'\u001b[0m\u001b[0;34m,\u001b[0m \u001b[0monKey\u001b[0m\u001b[0;34m)\u001b[0m\u001b[0;34m\u001b[0m\u001b[0;34m\u001b[0m\u001b[0m\n\u001b[1;32m      7\u001b[0m     \u001b[0mclick\u001b[0m \u001b[0;34m=\u001b[0m \u001b[0mfig\u001b[0m\u001b[0;34m.\u001b[0m\u001b[0mcanvas\u001b[0m\u001b[0;34m.\u001b[0m\u001b[0mmpl_connect\u001b[0m\u001b[0;34m(\u001b[0m\u001b[0;34m'button_press_event'\u001b[0m\u001b[0;34m,\u001b[0m \u001b[0monClick\u001b[0m\u001b[0;34m)\u001b[0m\u001b[0;34m\u001b[0m\u001b[0;34m\u001b[0m\u001b[0m\n\u001b[0;32m----> 8\u001b[0;31m     \u001b[0mplt\u001b[0m\u001b[0;34m.\u001b[0m\u001b[0mpause\u001b[0m\u001b[0;34m(\u001b[0m\u001b[0;36m1\u001b[0m\u001b[0;34m)\u001b[0m\u001b[0;34m\u001b[0m\u001b[0;34m\u001b[0m\u001b[0m\n\u001b[0m\u001b[1;32m      9\u001b[0m     \u001b[0;32mif\u001b[0m \u001b[0;34m(\u001b[0m\u001b[0mstop\u001b[0m\u001b[0;34m)\u001b[0m\u001b[0;34m:\u001b[0m\u001b[0;34m\u001b[0m\u001b[0;34m\u001b[0m\u001b[0m\n\u001b[1;32m     10\u001b[0m         \u001b[0;32mbreak\u001b[0m\u001b[0;34m\u001b[0m\u001b[0;34m\u001b[0m\u001b[0m\n",
            "\u001b[0;32m/usr/local/lib/python3.7/dist-packages/matplotlib/pyplot.py\u001b[0m in \u001b[0;36mpause\u001b[0;34m(interval)\u001b[0m\n\u001b[1;32m    313\u001b[0m         \u001b[0mcanvas\u001b[0m\u001b[0;34m.\u001b[0m\u001b[0mstart_event_loop\u001b[0m\u001b[0;34m(\u001b[0m\u001b[0minterval\u001b[0m\u001b[0;34m)\u001b[0m\u001b[0;34m\u001b[0m\u001b[0;34m\u001b[0m\u001b[0m\n\u001b[1;32m    314\u001b[0m     \u001b[0;32melse\u001b[0m\u001b[0;34m:\u001b[0m\u001b[0;34m\u001b[0m\u001b[0;34m\u001b[0m\u001b[0m\n\u001b[0;32m--> 315\u001b[0;31m         \u001b[0mtime\u001b[0m\u001b[0;34m.\u001b[0m\u001b[0msleep\u001b[0m\u001b[0;34m(\u001b[0m\u001b[0minterval\u001b[0m\u001b[0;34m)\u001b[0m\u001b[0;34m\u001b[0m\u001b[0;34m\u001b[0m\u001b[0m\n\u001b[0m\u001b[1;32m    316\u001b[0m \u001b[0;34m\u001b[0m\u001b[0m\n\u001b[1;32m    317\u001b[0m \u001b[0;34m\u001b[0m\u001b[0m\n",
            "\u001b[0;31mKeyboardInterrupt\u001b[0m: "
          ]
        }
      ]
    },
    {
      "cell_type": "markdown",
      "source": [
        "# 3. Méthode pour tracer le polynôme avec la matrice de Vandermone"
      ],
      "metadata": {
        "id": "Vg-_9Es303dc"
      }
    },
    {
      "cell_type": "code",
      "source": [
        ""
      ],
      "metadata": {
        "id": "dN_2qwUmz12z"
      },
      "execution_count": null,
      "outputs": []
    },
    {
      "cell_type": "markdown",
      "source": [
        "# 4. Méthode pour tracer le polynôme avec l'interpolation de Lagrange"
      ],
      "metadata": {
        "id": "9LCtNCzV1CxV"
      }
    },
    {
      "cell_type": "code",
      "source": [
        "def Lk(x, k, coordonnee):\n",
        "    result = 1\n",
        "    for i in range(len(coordonnee)):\n",
        "        if (i != k):\n",
        "            result *= (x - coordonnee[i][0]) / (coordonnee[k][0] - coordonnee[i][0])\n",
        "    return result"
      ],
      "metadata": {
        "id": "hDgW5kGQ1G1c"
      },
      "execution_count": 10,
      "outputs": []
    },
    {
      "cell_type": "code",
      "source": [
        "def polynomeLagrange(x, coordonnee):\n",
        "    result = 0\n",
        "    for k in range(len(coordonnee)):\n",
        "        result += Lk(x, k, coordonnee) * coordonnee[k][1]\n",
        "    return result"
      ],
      "metadata": {
        "id": "A_46jiD81MJX"
      },
      "execution_count": 11,
      "outputs": []
    },
    {
      "cell_type": "markdown",
      "source": [
        "# 5. Interpolation de Newton via la matrice triangulaire et tablea des différences divisées"
      ],
      "metadata": {
        "id": "pca3F1ZX1d0D"
      }
    },
    {
      "cell_type": "code",
      "source": [
        ""
      ],
      "metadata": {
        "id": "u-mBcF-H1aLb"
      },
      "execution_count": null,
      "outputs": []
    },
    {
      "cell_type": "markdown",
      "source": [
        "# 6. Tester les méthodes sur les exercices 5 et 6"
      ],
      "metadata": {
        "id": "aYLN3S1P1mDL"
      }
    },
    {
      "cell_type": "code",
      "source": [
        "coordonnee1 = [\n",
        "               (1, 1), \n",
        "               (2, 8), \n",
        "               (3, 27),\n",
        "               (4, 64)\n",
        "               ]\n",
        "coordonnee2 = [\n",
        "               (1, 1), \n",
        "               (2, 3), \n",
        "               (4, 5),\n",
        "               (6, 10),\n",
        "               (7, 15)\n",
        "               ]"
      ],
      "metadata": {
        "id": "dHrQCBNG125x"
      },
      "execution_count": 15,
      "outputs": []
    },
    {
      "cell_type": "markdown",
      "source": [
        "##### Matrice Vandermonde"
      ],
      "metadata": {
        "id": "ssaWgKzb1sGL"
      }
    },
    {
      "cell_type": "code",
      "source": [
        ""
      ],
      "metadata": {
        "id": "ArTr3jK_1cE1"
      },
      "execution_count": null,
      "outputs": []
    },
    {
      "cell_type": "markdown",
      "source": [
        "##### Interpolation de Lagrange"
      ],
      "metadata": {
        "id": "NpfuC4w31xkI"
      }
    },
    {
      "cell_type": "code",
      "source": [
        "def tracer_lagrange(f, start, end, coordonnee):\n",
        "    X = np.arange(start, end + pas, pas)\n",
        "    Y = [ eval(f, x) for x in X ]\n",
        "    plt.title(\"Function \" + str(f))\n",
        "    plt.plot(X, Y)\n",
        "    for cooX, cooY in coordonnee:\n",
        "        plt.scatter(cooX, cooY, color=\"black\", marker=\"x\")\n",
        "    plt.axhline(0, color = \"black\")\n",
        "    plt.axvline(0, color = \"black\")\n",
        "    plt.grid()\n",
        "    plt.show()"
      ],
      "metadata": {
        "id": "ImBCouuC3JFW"
      },
      "execution_count": 27,
      "outputs": []
    },
    {
      "cell_type": "code",
      "source": [
        "f1 = polynomeLagrange(x, coordonnee1)\n",
        "pprint(f1, use_unicode=True)\n",
        "tracer_lagrange(f1, 0, 5, coordonnee1)"
      ],
      "metadata": {
        "colab": {
          "base_uri": "https://localhost:8080/",
          "height": 409
        },
        "id": "efPLWMpv1z7E",
        "outputId": "7de486ef-043f-4168-d0df-14c9d67a36b5"
      },
      "execution_count": 31,
      "outputs": [
        {
          "output_type": "stream",
          "name": "stdout",
          "text": [
            "⎛4   x⎞ ⎛3   x⎞             ⎛    x⎞                              ⎛x   1⎞      \n",
            "⎜─ - ─⎟⋅⎜─ - ─⎟⋅(2 - x) + 8⋅⎜2 - ─⎟⋅(3 - x)⋅(x - 1) + 27⋅(4 - x)⋅⎜─ - ─⎟⋅(x - \n",
            "⎝3   3⎠ ⎝2   2⎠             ⎝    2⎠                              ⎝2   2⎠      \n",
            "\n",
            "        ⎛x   1⎞ ⎛x    ⎞        \n",
            "2) + 64⋅⎜─ - ─⎟⋅⎜─ - 1⎟⋅(x - 3)\n",
            "        ⎝3   3⎠ ⎝2    ⎠        \n"
          ]
        },
        {
          "output_type": "display_data",
          "data": {
            "text/plain": [
              "<Figure size 432x288 with 1 Axes>"
            ],
            "image/png": "[encoded data removed]"
          },
          "metadata": {
            "needs_background": "light"
          }
        }
      ]
    },
    {
      "cell_type": "code",
      "source": [
        "f2 = polynomeLagrange(x, coordonnee2)\n",
        "pprint(f2, use_unicode=True)\n",
        "tracer_lagrange(f2, 0, 10, coordonnee2)"
      ],
      "metadata": {
        "colab": {
          "base_uri": "https://localhost:8080/",
          "height": 482
        },
        "id": "qPZlpPTZ2W7H",
        "outputId": "1e4b862c-79b8-44a2-e6b2-555d4d249bc1"
      },
      "execution_count": 32,
      "outputs": [
        {
          "output_type": "stream",
          "name": "stdout",
          "text": [
            "⎛7   x⎞ ⎛6   x⎞ ⎛4   x⎞             ⎛7   x⎞ ⎛3   x⎞ ⎛    x⎞             ⎛7   x\n",
            "⎜─ - ─⎟⋅⎜─ - ─⎟⋅⎜─ - ─⎟⋅(2 - x) + 3⋅⎜─ - ─⎟⋅⎜─ - ─⎟⋅⎜2 - ─⎟⋅(x - 1) + 5⋅⎜─ - ─\n",
            "⎝6   6⎠ ⎝5   5⎠ ⎝3   3⎠             ⎝5   5⎠ ⎝2   4⎠ ⎝    2⎠             ⎝3   3\n",
            "\n",
            "⎞ ⎛    x⎞ ⎛x   1⎞ ⎛x    ⎞              ⎛x   1⎞ ⎛x   1⎞ ⎛x    ⎞      ⎛x   1⎞ ⎛x\n",
            "⎟⋅⎜3 - ─⎟⋅⎜─ - ─⎟⋅⎜─ - 1⎟ + 10⋅(7 - x)⋅⎜─ - ─⎟⋅⎜─ - ─⎟⋅⎜─ - 2⎟ + 15⋅⎜─ - ─⎟⋅⎜─\n",
            "⎠ ⎝    2⎠ ⎝3   3⎠ ⎝2    ⎠              ⎝5   5⎠ ⎝4   2⎠ ⎝2    ⎠      ⎝6   6⎠ ⎝5\n",
            "\n",
            "   2⎞ ⎛x   4⎞        \n",
            " - ─⎟⋅⎜─ - ─⎟⋅(x - 6)\n",
            "   5⎠ ⎝3   3⎠        \n"
          ]
        },
        {
          "output_type": "display_data",
          "data": {
            "text/plain": [
              "<Figure size 432x288 with 1 Axes>"
            ],
            "image/png": "[encoded data removed]"
          },
          "metadata": {
            "needs_background": "light"
          }
        }
      ]
    },
    {
      "cell_type": "code",
      "source": [
        ""
      ],
      "metadata": {
        "id": "EwuFWGHV3nhK"
      },
      "execution_count": null,
      "outputs": []
    }
  ]
}